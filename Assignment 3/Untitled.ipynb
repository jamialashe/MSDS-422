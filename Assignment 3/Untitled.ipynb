{
 "cells": [
  {
   "cell_type": "markdown",
   "id": "4c286a3a-34d3-44fc-8de4-5a3e87b7ba7b",
   "metadata": {},
   "source": [
    "### **Assignment 3**"
   ]
  },
  {
   "cell_type": "code",
   "execution_count": null,
   "id": "de20e280-17c7-4c56-a2c8-f9c39457d77d",
   "metadata": {},
   "outputs": [],
   "source": []
  }
 ],
 "metadata": {
  "kernelspec": {
   "display_name": "Python 3 (ipykernel)",
   "language": "python",
   "name": "python3"
  },
  "language_info": {
   "codemirror_mode": {
    "name": "ipython",
    "version": 3
   },
   "file_extension": ".py",
   "mimetype": "text/x-python",
   "name": "python",
   "nbconvert_exporter": "python",
   "pygments_lexer": "ipython3",
   "version": "3.11.5"
  }
 },
 "nbformat": 4,
 "nbformat_minor": 5
}
