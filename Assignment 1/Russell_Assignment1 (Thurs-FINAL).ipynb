{
 "cells": [
  {
   "cell_type": "markdown",
   "id": "074608ad-b1d2-4167-95c6-b61bbf9b31dc",
   "metadata": {},
   "source": [
    "# **Assignment 1**\n",
    "\n",
    "MSDS 422 \n",
    "\n",
    "Jamia Russell"
   ]
  },
  {
   "cell_type": "markdown",
   "id": "e52b63a2-b44e-4738-94c1-a49139e27295",
   "metadata": {},
   "source": [
    "# **Data Import and Cleaning**"
   ]
  },
  {
   "cell_type": "markdown",
   "id": "c9c5dd56-0e5b-46e4-85df-e69b3fe066da",
   "metadata": {},
   "source": [
    "**Read Data Into Python**"
   ]
  },
  {
   "cell_type": "code",
   "execution_count": 3,
   "id": "813b0d07-8193-4623-b081-da5cba5c7485",
   "metadata": {},
   "outputs": [
    {
     "name": "stdout",
     "output_type": "stream",
     "text": [
      "   TARGET_BAD_FLAG  TARGET_LOSS_AMT  LOAN  MORTDUE     VALUE   REASON     JOB  \\\n",
      "0                1            641.0  1100  25860.0   39025.0  HomeImp   Other   \n",
      "1                1           1109.0  1300  70053.0   68400.0  HomeImp   Other   \n",
      "2                1            767.0  1500  13500.0   16700.0  HomeImp   Other   \n",
      "3                1           1425.0  1500      NaN       NaN      NaN     NaN   \n",
      "4                0              NaN  1700  97800.0  112000.0  HomeImp  Office   \n",
      "\n",
      "    YOJ  DEROG  DELINQ       CLAGE  NINQ  CLNO  DEBTINC  \n",
      "0  10.5    0.0     0.0   94.366667   1.0   9.0      NaN  \n",
      "1   7.0    0.0     2.0  121.833333   0.0  14.0      NaN  \n",
      "2   4.0    0.0     0.0  149.466667   1.0  10.0      NaN  \n",
      "3   NaN    NaN     NaN         NaN   NaN   NaN      NaN  \n",
      "4   3.0    0.0     0.0   93.333333   0.0  14.0      NaN  \n"
     ]
    }
   ],
   "source": [
    "#import necessary libraries/packages for data review and analysis\n",
    "import pandas as pd\n",
    "import numpy as np\n",
    "import matplotlib.pyplot as plt\n",
    "import seaborn as sns\n",
    "\n",
    "#remove display limits \n",
    "pd.set_option('display.max_rows', None)\n",
    "pd.set_option('display.max_columns', None)\n",
    "pd.set_option('display.width', None)\n",
    "pd.set_option('display.max_colwidth', None)\n",
    "\n",
    "\n",
    "#read into dataframe\n",
    "df=pd.read_csv('C:\\\\Users\\\\jamia\\\\MSDS 422\\\\HMEQ_Loss.csv')\n",
    "\n",
    "#display first 5 rows of the dataframe\n",
    "print(df.head())"
   ]
  },
  {
   "cell_type": "code",
   "execution_count": 4,
   "id": "ce180ac0-a3a8-4e2f-b5f7-96fcab3172eb",
   "metadata": {},
   "outputs": [
    {
     "name": "stdout",
     "output_type": "stream",
     "text": [
      "        TARGET_BAD_FLAG  TARGET_LOSS_AMT          LOAN        MORTDUE  \\\n",
      "count       5960.000000      1189.000000   5960.000000    5442.000000   \n",
      "unique              NaN              NaN           NaN            NaN   \n",
      "top                 NaN              NaN           NaN            NaN   \n",
      "freq                NaN              NaN           NaN            NaN   \n",
      "mean           0.199497     13414.576955  18607.969799   73760.817200   \n",
      "std            0.399656     10839.455965  11207.480417   44457.609458   \n",
      "min            0.000000       224.000000   1100.000000    2063.000000   \n",
      "25%            0.000000      5639.000000  11100.000000   46276.000000   \n",
      "50%            0.000000     11003.000000  16300.000000   65019.000000   \n",
      "75%            0.000000     17634.000000  23300.000000   91488.000000   \n",
      "max            1.000000     78987.000000  89900.000000  399550.000000   \n",
      "\n",
      "                VALUE   REASON    JOB          YOJ        DEROG       DELINQ  \\\n",
      "count     5848.000000     5708   5681  5445.000000  5252.000000  5380.000000   \n",
      "unique            NaN        2      6          NaN          NaN          NaN   \n",
      "top               NaN  DebtCon  Other          NaN          NaN          NaN   \n",
      "freq              NaN     3928   2388          NaN          NaN          NaN   \n",
      "mean    101776.048741      NaN    NaN     8.922268     0.254570     0.449442   \n",
      "std      57385.775334      NaN    NaN     7.573982     0.846047     1.127266   \n",
      "min       8000.000000      NaN    NaN     0.000000     0.000000     0.000000   \n",
      "25%      66075.500000      NaN    NaN     3.000000     0.000000     0.000000   \n",
      "50%      89235.500000      NaN    NaN     7.000000     0.000000     0.000000   \n",
      "75%     119824.250000      NaN    NaN    13.000000     0.000000     0.000000   \n",
      "max     855909.000000      NaN    NaN    41.000000    10.000000    15.000000   \n",
      "\n",
      "              CLAGE         NINQ         CLNO      DEBTINC  \n",
      "count   5652.000000  5450.000000  5738.000000  4693.000000  \n",
      "unique          NaN          NaN          NaN          NaN  \n",
      "top             NaN          NaN          NaN          NaN  \n",
      "freq            NaN          NaN          NaN          NaN  \n",
      "mean     179.766275     1.186055    21.296096    33.779915  \n",
      "std       85.810092     1.728675    10.138933     8.601746  \n",
      "min        0.000000     0.000000     0.000000     0.524499  \n",
      "25%      115.116702     0.000000    15.000000    29.140031  \n",
      "50%      173.466667     1.000000    20.000000    34.818262  \n",
      "75%      231.562278     2.000000    26.000000    39.003141  \n",
      "max     1168.233561    17.000000    71.000000   203.312149  \n"
     ]
    }
   ],
   "source": [
    "dfsummary = df.describe(include= 'all')\n",
    "print(dfsummary)"
   ]
  },
  {
   "cell_type": "code",
   "execution_count": 5,
   "id": "d670e521-9802-4690-94f6-042085c389d3",
   "metadata": {},
   "outputs": [
    {
     "name": "stdout",
     "output_type": "stream",
     "text": [
      "TARGET_BAD_FLAG       0\n",
      "TARGET_LOSS_AMT    4771\n",
      "LOAN                  0\n",
      "MORTDUE             518\n",
      "VALUE               112\n",
      "REASON              252\n",
      "JOB                 279\n",
      "YOJ                 515\n",
      "DEROG               708\n",
      "DELINQ              580\n",
      "CLAGE               308\n",
      "NINQ                510\n",
      "CLNO                222\n",
      "DEBTINC            1267\n",
      "dtype: int64\n"
     ]
    }
   ],
   "source": [
    "missing = df.isnull().sum()\n",
    "print(missing)"
   ]
  },
  {
   "cell_type": "code",
   "execution_count": 6,
   "id": "e70a45a1-56ec-4f5f-900d-9b34474d2f1c",
   "metadata": {},
   "outputs": [
    {
     "data": {
      "text/plain": [
       "TARGET_BAD_FLAG    5960\n",
       "TARGET_LOSS_AMT    1189\n",
       "LOAN               5960\n",
       "MORTDUE            5442\n",
       "VALUE              5848\n",
       "REASON             5708\n",
       "JOB                5681\n",
       "YOJ                5445\n",
       "DEROG              5252\n",
       "DELINQ             5380\n",
       "CLAGE              5652\n",
       "NINQ               5450\n",
       "CLNO               5738\n",
       "DEBTINC            4693\n",
       "dtype: int64"
      ]
     },
     "execution_count": 6,
     "metadata": {},
     "output_type": "execute_result"
    }
   ],
   "source": [
    "#removing duplicate rows\n",
    "cleandf1= df.drop_duplicates(keep=False)\n",
    "cleandf1.count()"
   ]
  },
  {
   "cell_type": "markdown",
   "id": "8e10b4c2-0399-4211-8c6b-754dbbd38ff4",
   "metadata": {},
   "source": [
    "**Analyis by Profession**"
   ]
  },
  {
   "cell_type": "code",
   "execution_count": 7,
   "id": "c76afe64-d440-417e-844e-694e6f304592",
   "metadata": {},
   "outputs": [
    {
     "data": {
      "text/plain": [
       "JOB\n",
       "Mgr        179\n",
       "Office     125\n",
       "Other      554\n",
       "ProfExe    212\n",
       "Sales       38\n",
       "Self        58\n",
       "Name: TARGET_BAD_FLAG, dtype: int64"
      ]
     },
     "execution_count": 7,
     "metadata": {},
     "output_type": "execute_result"
    }
   ],
   "source": [
    "#Flagged defaults on accounts by Profession\n",
    "cleandf1.groupby(cleandf1.JOB)['TARGET_BAD_FLAG'].sum()"
   ]
  },
  {
   "cell_type": "code",
   "execution_count": 8,
   "id": "90c9efdc-6419-47c4-9fd2-c13ef41ac159",
   "metadata": {},
   "outputs": [
    {
     "data": {
      "text/plain": [
       "JOB\n",
       "Mgr        2531335.0\n",
       "Office     1684413.0\n",
       "Other      6409837.0\n",
       "ProfExe    3108125.0\n",
       "Sales       624015.0\n",
       "Self       1289477.0\n",
       "Name: TARGET_LOSS_AMT, dtype: float64"
      ]
     },
     "execution_count": 8,
     "metadata": {},
     "output_type": "execute_result"
    }
   ],
   "source": [
    "#Total Loss Amount by Profession\n",
    "cleandf1.groupby(cleandf1.JOB)['TARGET_LOSS_AMT'].sum()"
   ]
  },
  {
   "cell_type": "code",
   "execution_count": 9,
   "id": "15019977-de98-4349-b25f-556cc2857654",
   "metadata": {},
   "outputs": [
    {
     "data": {
      "text/plain": [
       "'this could be a result of lay-offs'"
      ]
     },
     "execution_count": 9,
     "metadata": {},
     "output_type": "execute_result"
    }
   ],
   "source": [
    "'These output tells us Other, Managers, and Office Workers have the highest loss amount  and defaults on loans among the professions. This may be due to being approved for high loan amounts'\n",
    "'with the thought of a steady income. This can cause individuals to overestimate what they are able to pay. In addition, job security is not guaranteed'\n",
    "'this could be a result of lay-offs'"
   ]
  },
  {
   "cell_type": "code",
   "execution_count": 10,
   "id": "1c44dfb1-d5a8-4422-ad8e-12e4745028c6",
   "metadata": {},
   "outputs": [
    {
     "data": {
      "text/plain": [
       "JOB\n",
       "Mgr        14692100\n",
       "Office     17199200\n",
       "Other      43131300\n",
       "ProfExe    24222900\n",
       "Sales       1625600\n",
       "Self        5464700\n",
       "Name: LOAN, dtype: int64"
      ]
     },
     "execution_count": 10,
     "metadata": {},
     "output_type": "execute_result"
    }
   ],
   "source": [
    "#Total Loan by Profession\n",
    "cleandf1.groupby(cleandf1.JOB)['LOAN'].sum()"
   ]
  },
  {
   "cell_type": "markdown",
   "id": "3d89018a-2d7e-40cf-95fb-70cd159c888b",
   "metadata": {},
   "source": [
    "**Data Types & Index Creation**"
   ]
  },
  {
   "cell_type": "code",
   "execution_count": 11,
   "id": "ad3a3f66-37ca-49b5-ac5e-de70de606f62",
   "metadata": {},
   "outputs": [
    {
     "name": "stdout",
     "output_type": "stream",
     "text": [
      "here is i ..... TARGET_BAD_FLAG ....and here is the type int64\n",
      "here is i ..... TARGET_LOSS_AMT ....and here is the type float64\n",
      "here is i ..... LOAN ....and here is the type int64\n",
      "here is i ..... MORTDUE ....and here is the type float64\n",
      "here is i ..... VALUE ....and here is the type float64\n",
      "here is i ..... REASON ....and here is the type object\n",
      "here is i ..... JOB ....and here is the type object\n",
      "here is i ..... YOJ ....and here is the type float64\n",
      "here is i ..... DEROG ....and here is the type float64\n",
      "here is i ..... DELINQ ....and here is the type float64\n",
      "here is i ..... CLAGE ....and here is the type float64\n",
      "here is i ..... NINQ ....and here is the type float64\n",
      "here is i ..... CLNO ....and here is the type float64\n",
      "here is i ..... DEBTINC ....and here is the type float64\n"
     ]
    }
   ],
   "source": [
    "#find data types\n",
    "dt = cleandf1.dtypes\n",
    "\n",
    "objList = []\n",
    "intList = []\n",
    "floatList = []\n",
    "\n",
    "for i in dt.index:\n",
    "    print(\"here is i .....\",i,\"....and here is the type\", dt[i]) "
   ]
  },
  {
   "cell_type": "code",
   "execution_count": 12,
   "id": "2b539008-2080-455c-a87a-61fb69974001",
   "metadata": {},
   "outputs": [
    {
     "name": "stdout",
     "output_type": "stream",
     "text": [
      "objects\n",
      "-------\n",
      "REASON\n",
      "JOB\n",
      "integer\n",
      "-------\n",
      "LOAN\n",
      "float\n",
      "-------\n",
      "MORTDUE\n",
      "VALUE\n",
      "YOJ\n",
      "DEROG\n",
      "DELINQ\n",
      "CLAGE\n",
      "NINQ\n",
      "CLNO\n",
      "DEBTINC\n"
     ]
    }
   ],
   "source": [
    "FLAG = 'TARGET_BAD_FLAG'\n",
    "LOSS = 'TARGET_LOSS_AMT'\n",
    "\n",
    "#index columns by data type\n",
    "\n",
    "for i in dt.index:\n",
    "    if i in ( [FLAG,LOSS]) : continue\n",
    "    if dt[i] in (['object']) : objList.append( i )\n",
    "    if dt[i] in (['float64']) : floatList.append( i )\n",
    "    if dt[i] in (['int64']) : intList.append( i )\n",
    "\n",
    "print(\"objects\")\n",
    "print(\"-------\")\n",
    "for i in objList : \n",
    "    print(i)\n",
    "\n",
    "print(\"integer\")\n",
    "print(\"-------\")\n",
    "for i in intList : \n",
    "    print(i)\n",
    "#\n",
    "#\n",
    "print(\"float\")\n",
    "print(\"-------\")\n",
    "for i in floatList : \n",
    "    print(i)"
   ]
  },
  {
   "cell_type": "code",
   "execution_count": 13,
   "id": "1bc12308-79a6-4299-91f0-067fad3f2f72",
   "metadata": {},
   "outputs": [
    {
     "name": "stdout",
     "output_type": "stream",
     "text": [
      "objects\n",
      "---------------\n",
      "Class = REASON\n",
      "['HomeImp' nan 'DebtCon']\n",
      "-------------------\n",
      "Class = JOB\n",
      "['Other' nan 'Office' 'Sales' 'Mgr' 'ProfExe' 'Self']\n",
      "-------------------\n"
     ]
    }
   ],
   "source": [
    "print (\"objects\")\n",
    "print(\"---------------\")\n",
    "for i in objList :\n",
    "    print( \"Class =\", i)\n",
    "    print(cleandf1[i].unique())\n",
    "    print(\"-------------------\")\n"
   ]
  },
  {
   "cell_type": "markdown",
   "id": "87093e25-5500-43b8-bc73-95fba435c713",
   "metadata": {},
   "source": [
    "**Null/Missing Values for Object List**"
   ]
  },
  {
   "cell_type": "code",
   "execution_count": 14,
   "id": "d1a84aa9-67c6-4b5b-b23e-c158b146db9c",
   "metadata": {},
   "outputs": [
    {
     "name": "stdout",
     "output_type": "stream",
     "text": [
      "REASON\n",
      "['HomeImp' nan 'DebtCon']\n",
      "REASON\n",
      "DebtCon    3928\n",
      "HomeImp    1780\n",
      "Name: REASON, dtype: int64\n",
      "MOST COMMON = DebtCon\n",
      "NULL = 252\n",
      "###########################################\n",
      "JOB\n",
      "['Other' nan 'Office' 'Sales' 'Mgr' 'ProfExe' 'Self']\n",
      "JOB\n",
      "Mgr         767\n",
      "Office      948\n",
      "Other      2388\n",
      "ProfExe    1276\n",
      "Sales       109\n",
      "Self        193\n",
      "Name: JOB, dtype: int64\n",
      "MOST COMMON = Other\n",
      "NULL = 279\n",
      "###########################################\n"
     ]
    }
   ],
   "source": [
    "#view most common and null values\n",
    "for i in objList :\n",
    "    print(i)\n",
    "    print(cleandf1[i].unique())\n",
    "    g=cleandf1.groupby(i)\n",
    "    print(g[i].count())\n",
    "    print(\"MOST COMMON =\", cleandf1[i].mode()[0])\n",
    "    print (\"NULL =\", cleandf1[i].isnull().sum())\n",
    "    print('###########################################')"
   ]
  },
  {
   "cell_type": "markdown",
   "id": "a9a4de7a-915b-408e-8d02-1f78ba651493",
   "metadata": {},
   "source": [
    "**Null Value Imputing**"
   ]
  },
  {
   "cell_type": "code",
   "execution_count": 15,
   "id": "b84a72fb-58a7-41e9-a07f-e40d223a79b9",
   "metadata": {},
   "outputs": [
    {
     "name": "stdout",
     "output_type": "stream",
     "text": [
      "IMP_REASON\n",
      "HAS MISSING\n",
      "----------------------------\n",
      "IMP_REASON\n",
      "DebtCon    3928\n",
      "HomeImp    1780\n",
      "MISSING     252\n",
      "Name: IMP_REASON, dtype: int64\n",
      "IMP_JOB\n",
      "HAS MISSING\n",
      "----------------------------\n",
      "IMP_JOB\n",
      "MISSING     279\n",
      "Mgr         767\n",
      "Office      948\n",
      "Other      2388\n",
      "ProfExe    1276\n",
      "Sales       109\n",
      "Self        193\n",
      "Name: IMP_JOB, dtype: int64\n"
     ]
    }
   ],
   "source": [
    "#impute columns with missing values\n",
    "#fill imputed null values with \"missing\"\n",
    "#drop old column\n",
    "\n",
    "for i in objList:\n",
    "    if cleandf1[i].isna().sum() == 0:\n",
    "        continue\n",
    "    NAME = \"IMP_\" + i\n",
    "    print(NAME)\n",
    "    print(\"HAS MISSING\")\n",
    "    print(\"----------------------------\")\n",
    "    cleandf1[NAME] = cleandf1[i]\n",
    "    cleandf1[NAME] = cleandf1[NAME].fillna(\"MISSING\")\n",
    "    g = cleandf1.groupby(NAME)\n",
    "    print(g[NAME].count())\n",
    "    cleandf1 = cleandf1.drop(i,axis=1) #drops the original variable \n",
    "    "
   ]
  },
  {
   "cell_type": "code",
   "execution_count": 16,
   "id": "96536fc7-eb24-4b49-b103-ffce208c6844",
   "metadata": {},
   "outputs": [
    {
     "name": "stdout",
     "output_type": "stream",
     "text": [
      "TARGET_BAD_FLAG       0\n",
      "TARGET_LOSS_AMT    4771\n",
      "LOAN                  0\n",
      "MORTDUE             518\n",
      "VALUE               112\n",
      "YOJ                 515\n",
      "DEROG               708\n",
      "DELINQ              580\n",
      "CLAGE               308\n",
      "NINQ                510\n",
      "CLNO                222\n",
      "DEBTINC            1267\n",
      "IMP_REASON            0\n",
      "IMP_JOB               0\n",
      "dtype: int64\n"
     ]
    }
   ],
   "source": [
    "#checking work, the new columns do not have null values and the old columns were dropped\n",
    "missing = cleandf1.isnull().sum()\n",
    "print(missing)"
   ]
  },
  {
   "cell_type": "markdown",
   "id": "0fe863c9-b39a-4e6f-a4d1-4382f6e17489",
   "metadata": {},
   "source": [
    "**Data Analysis - Object Data Type (REASON, JOB)**"
   ]
  },
  {
   "cell_type": "code",
   "execution_count": 17,
   "id": "c7dd684d-22a9-45ef-948b-6bb96b7672de",
   "metadata": {},
   "outputs": [
    {
     "name": "stdout",
     "output_type": "stream",
     "text": [
      "here is i ..... TARGET_BAD_FLAG ....and here is the type int64\n",
      "here is i ..... TARGET_LOSS_AMT ....and here is the type float64\n",
      "here is i ..... LOAN ....and here is the type int64\n",
      "here is i ..... MORTDUE ....and here is the type float64\n",
      "here is i ..... VALUE ....and here is the type float64\n",
      "here is i ..... YOJ ....and here is the type float64\n",
      "here is i ..... DEROG ....and here is the type float64\n",
      "here is i ..... DELINQ ....and here is the type float64\n",
      "here is i ..... CLAGE ....and here is the type float64\n",
      "here is i ..... NINQ ....and here is the type float64\n",
      "here is i ..... CLNO ....and here is the type float64\n",
      "here is i ..... DEBTINC ....and here is the type float64\n",
      "here is i ..... IMP_REASON ....and here is the type object\n",
      "here is i ..... IMP_JOB ....and here is the type object\n"
     ]
    }
   ],
   "source": [
    "dt = cleandf1.dtypes\n",
    "\n",
    "objList = []\n",
    "intList = []\n",
    "floatList = []\n",
    "\n",
    "for i in dt.index:\n",
    "    print(\"here is i .....\",i,\"....and here is the type\", dt[i]) "
   ]
  },
  {
   "cell_type": "code",
   "execution_count": 18,
   "id": "7c8d3cb8-deba-4f0f-8f99-b30e5553c43e",
   "metadata": {},
   "outputs": [
    {
     "name": "stdout",
     "output_type": "stream",
     "text": [
      "objects\n",
      "-------\n",
      "IMP_REASON\n",
      "IMP_JOB\n",
      "integer\n",
      "-------\n",
      "LOAN\n",
      "float\n",
      "-------\n",
      "MORTDUE\n",
      "VALUE\n",
      "YOJ\n",
      "DEROG\n",
      "DELINQ\n",
      "CLAGE\n",
      "NINQ\n",
      "CLNO\n",
      "DEBTINC\n"
     ]
    }
   ],
   "source": [
    "FLAG = 'TARGET_BAD_FLAG'\n",
    "LOSS = 'TARGET_LOSS_AMT'\n",
    "\n",
    "#index columns by data type\n",
    "\n",
    "for i in dt.index:\n",
    "    if i in ( [FLAG,LOSS]) : continue\n",
    "    if dt[i] in (['object']) : objList.append( i )\n",
    "    if dt[i] in (['float64']) : floatList.append( i )\n",
    "    if dt[i] in (['int64']) : intList.append( i )\n",
    "\n",
    "print(\"objects\")\n",
    "print(\"-------\")\n",
    "for i in objList : \n",
    "    print(i)\n",
    "\n",
    "print(\"integer\")\n",
    "print(\"-------\")\n",
    "for i in intList : \n",
    "    print(i)\n",
    "#\n",
    "#\n",
    "print(\"float\")\n",
    "print(\"-------\")\n",
    "for i in floatList : \n",
    "    print(i)"
   ]
  },
  {
   "cell_type": "code",
   "execution_count": 19,
   "id": "8bdf3fca-b418-493c-af30-a83fe8c19c17",
   "metadata": {},
   "outputs": [
    {
     "name": "stdout",
     "output_type": "stream",
     "text": [
      "Class =  IMP_REASON\n",
      "FLAG Prob IMP_REASON\n",
      "DebtCon    0.189664\n",
      "HomeImp    0.222472\n",
      "MISSING    0.190476\n",
      "Name: TARGET_BAD_FLAG, dtype: float64\n",
      "................\n",
      "Avg Loss Amount IMP_REASON\n",
      "DebtCon    16005.163758\n",
      "HomeImp     8388.090909\n",
      "MISSING    14675.020833\n",
      "Name: TARGET_LOSS_AMT, dtype: float64\n",
      "#########################\n",
      "Class =  IMP_JOB\n",
      "FLAG Prob IMP_JOB\n",
      "MISSING    0.082437\n",
      "Mgr        0.233377\n",
      "Office     0.131857\n",
      "Other      0.231993\n",
      "ProfExe    0.166144\n",
      "Sales      0.348624\n",
      "Self       0.300518\n",
      "Name: TARGET_BAD_FLAG, dtype: float64\n",
      "................\n",
      "Avg Loss Amount IMP_JOB\n",
      "MISSING    13162.173913\n",
      "Mgr        14141.536313\n",
      "Office     13475.304000\n",
      "Other      11570.102888\n",
      "ProfExe    14660.966981\n",
      "Sales      16421.447368\n",
      "Self       22232.362069\n",
      "Name: TARGET_LOSS_AMT, dtype: float64\n",
      "#########################\n"
     ]
    }
   ],
   "source": [
    "#Data Exploration\n",
    "for i in objList :\n",
    "    print(\"Class = \", i)\n",
    "    g = cleandf1.groupby( i )\n",
    "    x = g[FLAG].mean()\n",
    "    print(\"FLAG Prob\", x)\n",
    "    print(\"................\")\n",
    "    x = g[LOSS].mean()\n",
    "    print(\"Avg Loss Amount\",x)\n",
    "    print(\"#########################\")     "
   ]
  },
  {
   "cell_type": "markdown",
   "id": "eba502c8-8226-4450-b352-da440ffc303f",
   "metadata": {},
   "source": [
    "'The highest probability out of the provided reasons for a default outcome is Home Improvement. The highest average loss amount comes\n",
    "'from debst consolidation. This tracks with the unpredictability of the tasks. Homeowners may encounter problems they\n",
    "'had not known of which can prove to be more expensive than they can afford to pay. Those who have to consolidate debt choose to\n",
    "'often to avoid looming interest and because they do not have the money to pay leading to loss.'\n",
    "\n",
    "'The highest probability of a default outcome comes from the Sales profession. Again, this comes from the instability and \n",
    "'inconsistency of monthly income. There are slow seasons that lower possible commission and base pay is often well below \n",
    "'what is sustainable for living expenses and loans. Similar sentiments for self employed individuals, they also \n",
    "'have a greater tax burdern.'"
   ]
  },
  {
   "cell_type": "code",
   "execution_count": 20,
   "id": "f563c4b9-b469-45fd-939b-f3baca447fe1",
   "metadata": {},
   "outputs": [
    {
     "name": "stdout",
     "output_type": "stream",
     "text": [
      "Class =  IMP_REASON\n",
      "FLAG Prob IMP_REASON\n",
      "DebtCon    19952.953157\n",
      "HomeImp    16006.629213\n",
      "MISSING    16017.857143\n",
      "Name: LOAN, dtype: float64\n",
      "................\n",
      "Class =  IMP_JOB\n",
      "FLAG Prob IMP_JOB\n",
      "MISSING    16371.684588\n",
      "Mgr        19155.280313\n",
      "Office     18142.616034\n",
      "Other      18061.683417\n",
      "ProfExe    18983.463950\n",
      "Sales      14913.761468\n",
      "Self       28314.507772\n",
      "Name: LOAN, dtype: float64\n",
      "................\n"
     ]
    }
   ],
   "source": [
    "#Average Loan Amount by Reason and Job\n",
    "\n",
    "LOAN = 'LOAN'\n",
    "\n",
    "for i in objList :\n",
    "    print(\"Class = \", i)\n",
    "    g = cleandf1.groupby( i )\n",
    "    x = g[LOAN].mean()\n",
    "    print(\"FLAG Prob\", x)\n",
    "    print(\"................\")"
   ]
  },
  {
   "cell_type": "code",
   "execution_count": 21,
   "id": "5ddba456-6732-484a-8364-9bbb594c0415",
   "metadata": {},
   "outputs": [
    {
     "data": {
      "image/png": "[encoded data removed]",
      "text/plain": [
       "<Figure size 640x480 with 1 Axes>"
      ]
     },
     "metadata": {},
     "output_type": "display_data"
    },
    {
     "data": {
      "image/png": "[encoded data removed]",
      "text/plain": [
       "<Figure size 640x480 with 1 Axes>"
      ]
     },
     "metadata": {},
     "output_type": "display_data"
    }
   ],
   "source": [
    "#pie chart\n",
    "for i in objList :\n",
    "    x = cleandf1[i].value_counts(dropna=False)\n",
    "    theLabels = x.axes[0].tolist()\n",
    "    theSlices = list(x)\n",
    "    plt.pie( theSlices,\n",
    "            labels=theLabels,\n",
    "            startangle = 90,\n",
    "            shadow=True,\n",
    "            autopct=\"%1.1f%%\")\n",
    "    plt.title(\"Pie Chart: \" + i)\n",
    "    plt.show()"
   ]
  },
  {
   "cell_type": "markdown",
   "id": "647f9a70-26a1-40c7-b119-992dc939d315",
   "metadata": {},
   "source": [
    "**One Hot Encoding - JOB and REASON**"
   ]
  },
  {
   "cell_type": "code",
   "execution_count": 22,
   "id": "6e265eb5-52f0-47cc-a4ab-5af67d5bf858",
   "metadata": {},
   "outputs": [
    {
     "name": "stdout",
     "output_type": "stream",
     "text": [
      "                            0           1           2\n",
      "TARGET_BAD_FLAG             1           1           1\n",
      "TARGET_LOSS_AMT         641.0      1109.0       767.0\n",
      "LOAN                     1100        1300        1500\n",
      "MORTDUE               25860.0     70053.0     13500.0\n",
      "VALUE                 39025.0     68400.0     16700.0\n",
      "YOJ                      10.5         7.0         4.0\n",
      "DEROG                     0.0         0.0         0.0\n",
      "DELINQ                    0.0         2.0         0.0\n",
      "CLAGE               94.366667  121.833333  149.466667\n",
      "NINQ                      1.0         0.0         1.0\n",
      "CLNO                      9.0        14.0        10.0\n",
      "DEBTINC                   NaN         NaN         NaN\n",
      "IMP_JOB                 Other       Other       Other\n",
      "OHE_REASON_HOMEIMP          1           1           1\n",
      "OHE_REASON_DEBTCON          0           0           0\n",
      "OHE_REASON_MISSING          0           0           0\n"
     ]
    }
   ],
   "source": [
    "#correct one hot encoding - REASON\n",
    "cleandf1[\"OHE_REASON_HOMEIMP\"] = cleandf1[\"IMP_REASON\"].isin([\"HomeImp\"])+0\n",
    "cleandf1[\"OHE_REASON_DEBTCON\"] = cleandf1[\"IMP_REASON\"].isin([\"DebtCon\"])+0\n",
    "cleandf1[\"OHE_REASON_MISSING\"] = cleandf1[\"IMP_REASON\"].isin([\"MISSING\"])+0\n",
    "\n",
    "cleandf1 = cleandf1.drop(\"IMP_REASON\",axis=1)\n",
    "\n",
    "print(cleandf1.head(3).T)"
   ]
  },
  {
   "cell_type": "code",
   "execution_count": 23,
   "id": "f1db98a2-8742-422a-8f74-89ccdfb65032",
   "metadata": {},
   "outputs": [
    {
     "name": "stdout",
     "output_type": "stream",
     "text": [
      "                               0             1             2\n",
      "TARGET_BAD_FLAG         1.000000      1.000000      1.000000\n",
      "TARGET_LOSS_AMT       641.000000   1109.000000    767.000000\n",
      "LOAN                 1100.000000   1300.000000   1500.000000\n",
      "MORTDUE             25860.000000  70053.000000  13500.000000\n",
      "VALUE               39025.000000  68400.000000  16700.000000\n",
      "YOJ                    10.500000      7.000000      4.000000\n",
      "DEROG                   0.000000      0.000000      0.000000\n",
      "DELINQ                  0.000000      2.000000      0.000000\n",
      "CLAGE                  94.366667    121.833333    149.466667\n",
      "NINQ                    1.000000      0.000000      1.000000\n",
      "CLNO                    9.000000     14.000000     10.000000\n",
      "DEBTINC                      NaN           NaN           NaN\n",
      "OHE_REASON_HOMEIMP      1.000000      1.000000      1.000000\n",
      "OHE_REASON_DEBTCON      0.000000      0.000000      0.000000\n",
      "OHE_REASON_MISSING      0.000000      0.000000      0.000000\n",
      "OHE_JOB_OFFICE          0.000000      0.000000      0.000000\n",
      "OHE_JOB_OTHER           1.000000      1.000000      1.000000\n",
      "OHE_JOB_MGR             0.000000      0.000000      0.000000\n",
      "OHE_JOB_PROFEXEC        0.000000      0.000000      0.000000\n",
      "OHE_JOB_SALES           0.000000      0.000000      0.000000\n"
     ]
    }
   ],
   "source": [
    "#OHE for Jobs\n",
    "\n",
    "cleandf1[\"OHE_JOB_OFFICE\"] = cleandf1[\"IMP_JOB\"].isin([\"Office\"])+0\n",
    "cleandf1[\"OHE_JOB_OTHER\"] = cleandf1[\"IMP_JOB\"].isin([\"Other\"])+0\n",
    "cleandf1[\"OHE_JOB_MGR\"] = cleandf1[\"IMP_JOB\"].isin([\"Mgr\"])+0\n",
    "cleandf1[\"OHE_JOB_PROFEXEC\"]= cleandf1[\"IMP_JOB\"].isin([\"ProfExec\"])+0\n",
    "cleandf1[\"OHE_JOB_SALES\"] = cleandf1[\"IMP_JOB\"].isin([\"Sales\"])+0\n",
    "\n",
    "cleandf1 = cleandf1.drop(\"IMP_JOB\",axis=1)\n",
    "\n",
    "print(cleandf1.head(3).T)"
   ]
  },
  {
   "cell_type": "markdown",
   "id": "809c38a8-7a0b-4367-ba81-53760391584a",
   "metadata": {},
   "source": [
    "**Integer List**"
   ]
  },
  {
   "cell_type": "code",
   "execution_count": 24,
   "id": "3a08d04b-5b9d-47a5-8d18-6ec2f2476b16",
   "metadata": {},
   "outputs": [
    {
     "name": "stdout",
     "output_type": "stream",
     "text": [
      "TARGET_BAD_FLAG          0\n",
      "TARGET_LOSS_AMT       4771\n",
      "LOAN                     0\n",
      "MORTDUE                518\n",
      "VALUE                  112\n",
      "YOJ                    515\n",
      "DEROG                  708\n",
      "DELINQ                 580\n",
      "CLAGE                  308\n",
      "NINQ                   510\n",
      "CLNO                   222\n",
      "DEBTINC               1267\n",
      "OHE_REASON_HOMEIMP       0\n",
      "OHE_REASON_DEBTCON       0\n",
      "OHE_REASON_MISSING       0\n",
      "OHE_JOB_OFFICE           0\n",
      "OHE_JOB_OTHER            0\n",
      "OHE_JOB_MGR              0\n",
      "OHE_JOB_PROFEXEC         0\n",
      "OHE_JOB_SALES            0\n",
      "dtype: int64\n"
     ]
    }
   ],
   "source": [
    "missing = cleandf1.isnull().sum()\n",
    "print(missing)"
   ]
  },
  {
   "cell_type": "code",
   "execution_count": 25,
   "id": "d954de7f-051a-49d7-bc34-a3e2145f9b23",
   "metadata": {},
   "outputs": [
    {
     "name": "stdout",
     "output_type": "stream",
     "text": [
      "Variable: LOAN\n",
      "FLAG Prob TARGET_BAD_FLAG\n",
      "0    19028.107315\n",
      "1    16922.119428\n",
      "Name: LOAN, dtype: float64\n",
      "Loss Amount Correlation: 83.7056645044 %\n"
     ]
    }
   ],
   "source": [
    "#Probability of FLAG default on Loan(int) and loss amount correlation\n",
    "for i in intList :\n",
    "    print(\"Variable:\", i)\n",
    "    g=cleandf1.groupby(FLAG)\n",
    "    x=g[i].mean()\n",
    "    print(\"FLAG Prob\", x)\n",
    "    c=cleandf1[i].corr(cleandf1[LOSS])\n",
    "    c=round(100*c,10)\n",
    "    print(\"Loss Amount Correlation:\",c, \"%\")"
   ]
  },
  {
   "cell_type": "markdown",
   "id": "37a0e675-2b6f-4fb9-9563-3213cc3c2938",
   "metadata": {},
   "source": [
    "\"The average loan amount for non-defaults is higher compared to defaults. Suggesting defaulted loans compared to non-defaulted tend to be' \n",
    "'are smaller on average. There is an 83 percent correlation betwee loan amount and loss amount which is logical.'"
   ]
  },
  {
   "cell_type": "code",
   "execution_count": 26,
   "id": "01bccee1-44db-40f2-924f-848400738145",
   "metadata": {},
   "outputs": [
    {
     "name": "stderr",
     "output_type": "stream",
     "text": [
      "C:\\Anaconda\\Lib\\site-packages\\seaborn\\_oldcore.py:1498: FutureWarning: is_categorical_dtype is deprecated and will be removed in a future version. Use isinstance(dtype, CategoricalDtype) instead\n",
      "  if pd.api.types.is_categorical_dtype(vector):\n",
      "C:\\Anaconda\\Lib\\site-packages\\seaborn\\_oldcore.py:1498: FutureWarning: is_categorical_dtype is deprecated and will be removed in a future version. Use isinstance(dtype, CategoricalDtype) instead\n",
      "  if pd.api.types.is_categorical_dtype(vector):\n",
      "C:\\Anaconda\\Lib\\site-packages\\seaborn\\_oldcore.py:1498: FutureWarning: is_categorical_dtype is deprecated and will be removed in a future version. Use isinstance(dtype, CategoricalDtype) instead\n",
      "  if pd.api.types.is_categorical_dtype(vector):\n",
      "C:\\Anaconda\\Lib\\site-packages\\seaborn\\_oldcore.py:1498: FutureWarning: is_categorical_dtype is deprecated and will be removed in a future version. Use isinstance(dtype, CategoricalDtype) instead\n",
      "  if pd.api.types.is_categorical_dtype(vector):\n",
      "C:\\Anaconda\\Lib\\site-packages\\seaborn\\_oldcore.py:1498: FutureWarning: is_categorical_dtype is deprecated and will be removed in a future version. Use isinstance(dtype, CategoricalDtype) instead\n",
      "  if pd.api.types.is_categorical_dtype(vector):\n",
      "C:\\Anaconda\\Lib\\site-packages\\seaborn\\_oldcore.py:1119: FutureWarning: use_inf_as_na option is deprecated and will be removed in a future version. Convert inf values to NaN before operating instead.\n",
      "  with pd.option_context('mode.use_inf_as_na', True):\n",
      "C:\\Anaconda\\Lib\\site-packages\\seaborn\\_oldcore.py:1498: FutureWarning: is_categorical_dtype is deprecated and will be removed in a future version. Use isinstance(dtype, CategoricalDtype) instead\n",
      "  if pd.api.types.is_categorical_dtype(vector):\n",
      "C:\\Anaconda\\Lib\\site-packages\\seaborn\\_oldcore.py:1119: FutureWarning: use_inf_as_na option is deprecated and will be removed in a future version. Convert inf values to NaN before operating instead.\n",
      "  with pd.option_context('mode.use_inf_as_na', True):\n"
     ]
    },
    {
     "data": {
      "text/plain": [
       "<seaborn.axisgrid.JointGrid at 0x20fd111dd50>"
      ]
     },
     "execution_count": 26,
     "metadata": {},
     "output_type": "execute_result"
    },
    {
     "data": {
      "image/png": "[encoded data removed]",
      "text/plain": [
       "<Figure size 600x600 with 3 Axes>"
      ]
     },
     "metadata": {},
     "output_type": "display_data"
    }
   ],
   "source": [
    "#disrtibution of loss amount vs. loan \n",
    "sns.jointplot(data=cleandf1, x=\"TARGET_LOSS_AMT\", y=\"LOAN\")"
   ]
  },
  {
   "cell_type": "markdown",
   "id": "837b860a-596e-46d8-99b6-985d1c22f719",
   "metadata": {},
   "source": [
    "**Flag Variables for Float List**"
   ]
  },
  {
   "cell_type": "code",
   "execution_count": 27,
   "id": "ff9947f4-fa25-45a5-8fe3-bae4f0bb0126",
   "metadata": {},
   "outputs": [
    {
     "name": "stdout",
     "output_type": "stream",
     "text": [
      "MORTDUE\n",
      "M_MORTDUE\n",
      "IMP_MORTDUE\n",
      "VALUE\n",
      "M_VALUE\n",
      "IMP_VALUE\n",
      "YOJ\n",
      "M_YOJ\n",
      "IMP_YOJ\n",
      "DEROG\n",
      "M_DEROG\n",
      "IMP_DEROG\n",
      "DELINQ\n",
      "M_DELINQ\n",
      "IMP_DELINQ\n",
      "CLAGE\n",
      "M_CLAGE\n",
      "IMP_CLAGE\n",
      "NINQ\n",
      "M_NINQ\n",
      "IMP_NINQ\n",
      "CLNO\n",
      "M_CLNO\n",
      "IMP_CLNO\n",
      "DEBTINC\n",
      "M_DEBTINC\n",
      "IMP_DEBTINC\n",
      "                               0             1             2\n",
      "TARGET_BAD_FLAG         1.000000      1.000000      1.000000\n",
      "TARGET_LOSS_AMT       641.000000   1109.000000    767.000000\n",
      "LOAN                 1100.000000   1300.000000   1500.000000\n",
      "OHE_REASON_HOMEIMP      1.000000      1.000000      1.000000\n",
      "OHE_REASON_DEBTCON      0.000000      0.000000      0.000000\n",
      "OHE_REASON_MISSING      0.000000      0.000000      0.000000\n",
      "OHE_JOB_OFFICE          0.000000      0.000000      0.000000\n",
      "OHE_JOB_OTHER           1.000000      1.000000      1.000000\n",
      "OHE_JOB_MGR             0.000000      0.000000      0.000000\n",
      "OHE_JOB_PROFEXEC        0.000000      0.000000      0.000000\n",
      "OHE_JOB_SALES           0.000000      0.000000      0.000000\n",
      "M_MORTDUE               0.000000      0.000000      0.000000\n",
      "IMP_MORTDUE         25860.000000  70053.000000  13500.000000\n",
      "M_VALUE                 0.000000      0.000000      0.000000\n",
      "IMP_VALUE           39025.000000  68400.000000  16700.000000\n",
      "M_YOJ                   0.000000      0.000000      0.000000\n",
      "IMP_YOJ                10.500000      7.000000      4.000000\n",
      "M_DEROG                 0.000000      0.000000      0.000000\n",
      "IMP_DEROG               0.000000      0.000000      0.000000\n",
      "M_DELINQ                0.000000      0.000000      0.000000\n",
      "IMP_DELINQ              0.000000      2.000000      0.000000\n",
      "M_CLAGE                 0.000000      0.000000      0.000000\n",
      "IMP_CLAGE              94.366667    121.833333    149.466667\n",
      "M_NINQ                  0.000000      0.000000      0.000000\n",
      "IMP_NINQ                1.000000      0.000000      1.000000\n",
      "M_CLNO                  0.000000      0.000000      0.000000\n",
      "IMP_CLNO                9.000000     14.000000     10.000000\n",
      "M_DEBTINC               1.000000      1.000000      1.000000\n",
      "IMP_DEBTINC            34.818262     34.818262     34.818262\n"
     ]
    }
   ],
   "source": [
    "#creating flag list and imputing missing values\n",
    "for i in floatList :\n",
    "    #print(i)\n",
    "    if cleandf1[i].isna().sum() == 0 : continue\n",
    "    print(i)\n",
    "    FLAG = \"M_\" + i\n",
    "    IMP = \"IMP_\" + i\n",
    "    print( FLAG )\n",
    "    print( IMP )\n",
    "    cleandf1[ FLAG ] = cleandf1[i].isna() + 0\n",
    "    cleandf1[ IMP ] = cleandf1[ i ]\n",
    "    cleandf1.loc[ cleandf1[IMP].isna(), IMP ] = cleandf1[i].median()\n",
    "    cleandf1 = cleandf1.drop( i, axis=1 )\n",
    "\n",
    "\n",
    "print(cleandf1.head(3).T)"
   ]
  },
  {
   "cell_type": "code",
   "execution_count": 28,
   "id": "c38d9bc8-8439-490c-93f9-41e5e6625def",
   "metadata": {},
   "outputs": [
    {
     "name": "stdout",
     "output_type": "stream",
     "text": [
      "TARGET_BAD_FLAG          0\n",
      "TARGET_LOSS_AMT       4771\n",
      "LOAN                     0\n",
      "OHE_REASON_HOMEIMP       0\n",
      "OHE_REASON_DEBTCON       0\n",
      "OHE_REASON_MISSING       0\n",
      "OHE_JOB_OFFICE           0\n",
      "OHE_JOB_OTHER            0\n",
      "OHE_JOB_MGR              0\n",
      "OHE_JOB_PROFEXEC         0\n",
      "OHE_JOB_SALES            0\n",
      "M_MORTDUE                0\n",
      "IMP_MORTDUE              0\n",
      "M_VALUE                  0\n",
      "IMP_VALUE                0\n",
      "M_YOJ                    0\n",
      "IMP_YOJ                  0\n",
      "M_DEROG                  0\n",
      "IMP_DEROG                0\n",
      "M_DELINQ                 0\n",
      "IMP_DELINQ               0\n",
      "M_CLAGE                  0\n",
      "IMP_CLAGE                0\n",
      "M_NINQ                   0\n",
      "IMP_NINQ                 0\n",
      "M_CLNO                   0\n",
      "IMP_CLNO                 0\n",
      "M_DEBTINC                0\n",
      "IMP_DEBTINC              0\n",
      "dtype: int64\n"
     ]
    }
   ],
   "source": [
    "#checking work\n",
    "missing = cleandf1.isnull().sum()\n",
    "print(missing)"
   ]
  },
  {
   "cell_type": "code",
   "execution_count": 29,
   "id": "9394ac97-c463-4350-83ef-16efcf5c8c0f",
   "metadata": {},
   "outputs": [
    {
     "name": "stdout",
     "output_type": "stream",
     "text": [
      "                     count           mean           std          min  \\\n",
      "TARGET_BAD_FLAG     5960.0       0.199497      0.399656     0.000000   \n",
      "TARGET_LOSS_AMT     1189.0   13414.576955  10839.455965   224.000000   \n",
      "LOAN                5960.0   18607.969799  11207.480417  1100.000000   \n",
      "OHE_REASON_HOMEIMP  5960.0       0.298658      0.457708     0.000000   \n",
      "OHE_REASON_DEBTCON  5960.0       0.659060      0.474065     0.000000   \n",
      "OHE_REASON_MISSING  5960.0       0.042282      0.201248     0.000000   \n",
      "OHE_JOB_OFFICE      5960.0       0.159060      0.365763     0.000000   \n",
      "OHE_JOB_OTHER       5960.0       0.400671      0.490076     0.000000   \n",
      "OHE_JOB_MGR         5960.0       0.128691      0.334886     0.000000   \n",
      "OHE_JOB_PROFEXEC    5960.0       0.000000      0.000000     0.000000   \n",
      "OHE_JOB_SALES       5960.0       0.018289      0.134004     0.000000   \n",
      "M_MORTDUE           5960.0       0.086913      0.281731     0.000000   \n",
      "IMP_MORTDUE         5960.0   73001.041812  42552.726779  2063.000000   \n",
      "M_VALUE             5960.0       0.018792      0.135801     0.000000   \n",
      "IMP_VALUE           5960.0  101540.387423  56869.436682  8000.000000   \n",
      "M_YOJ               5960.0       0.086409      0.280991     0.000000   \n",
      "IMP_YOJ             5960.0       8.756166      7.259424     0.000000   \n",
      "M_DEROG             5960.0       0.118792      0.323571     0.000000   \n",
      "IMP_DEROG           5960.0       0.224329      0.798458     0.000000   \n",
      "M_DELINQ            5960.0       0.097315      0.296412     0.000000   \n",
      "IMP_DELINQ          5960.0       0.405705      1.079256     0.000000   \n",
      "M_CLAGE             5960.0       0.051678      0.221394     0.000000   \n",
      "IMP_CLAGE           5960.0     179.440725     83.574697     0.000000   \n",
      "M_NINQ              5960.0       0.085570      0.279752     0.000000   \n",
      "IMP_NINQ            5960.0       1.170134      1.653866     0.000000   \n",
      "M_CLNO              5960.0       0.037248      0.189386     0.000000   \n",
      "IMP_CLNO            5960.0      21.247819      9.951308     0.000000   \n",
      "M_DEBTINC           5960.0       0.212584      0.409170     0.000000   \n",
      "IMP_DEBTINC         5960.0      34.000651      7.644528     0.524499   \n",
      "\n",
      "                             25%           50%            75%            max  \n",
      "TARGET_BAD_FLAG         0.000000      0.000000       0.000000       1.000000  \n",
      "TARGET_LOSS_AMT      5639.000000  11003.000000   17634.000000   78987.000000  \n",
      "LOAN                11100.000000  16300.000000   23300.000000   89900.000000  \n",
      "OHE_REASON_HOMEIMP      0.000000      0.000000       1.000000       1.000000  \n",
      "OHE_REASON_DEBTCON      0.000000      1.000000       1.000000       1.000000  \n",
      "OHE_REASON_MISSING      0.000000      0.000000       0.000000       1.000000  \n",
      "OHE_JOB_OFFICE          0.000000      0.000000       0.000000       1.000000  \n",
      "OHE_JOB_OTHER           0.000000      0.000000       1.000000       1.000000  \n",
      "OHE_JOB_MGR             0.000000      0.000000       0.000000       1.000000  \n",
      "OHE_JOB_PROFEXEC        0.000000      0.000000       0.000000       0.000000  \n",
      "OHE_JOB_SALES           0.000000      0.000000       0.000000       1.000000  \n",
      "M_MORTDUE               0.000000      0.000000       0.000000       1.000000  \n",
      "IMP_MORTDUE         48139.000000  65019.000000   88200.250000  399550.000000  \n",
      "M_VALUE                 0.000000      0.000000       0.000000       1.000000  \n",
      "IMP_VALUE           66489.500000  89235.500000  119004.750000  855909.000000  \n",
      "M_YOJ                   0.000000      0.000000       0.000000       1.000000  \n",
      "IMP_YOJ                 3.000000      7.000000      12.000000      41.000000  \n",
      "M_DEROG                 0.000000      0.000000       0.000000       1.000000  \n",
      "IMP_DEROG               0.000000      0.000000       0.000000      10.000000  \n",
      "M_DELINQ                0.000000      0.000000       0.000000       1.000000  \n",
      "IMP_DELINQ              0.000000      0.000000       0.000000      15.000000  \n",
      "M_CLAGE                 0.000000      0.000000       0.000000       1.000000  \n",
      "IMP_CLAGE             117.371430    173.466667     227.143058    1168.233561  \n",
      "M_NINQ                  0.000000      0.000000       0.000000       1.000000  \n",
      "IMP_NINQ                0.000000      1.000000       2.000000      17.000000  \n",
      "M_CLNO                  0.000000      0.000000       0.000000       1.000000  \n",
      "IMP_CLNO               15.000000     20.000000      26.000000      71.000000  \n",
      "M_DEBTINC               0.000000      0.000000       0.000000       1.000000  \n",
      "IMP_DEBTINC            30.763159     34.818262      37.949892     203.312149  \n"
     ]
    }
   ],
   "source": [
    "print(cleandf1.describe().T)"
   ]
  },
  {
   "cell_type": "markdown",
   "id": "14953307-55f7-4692-83a6-6b2c33c14747",
   "metadata": {},
   "source": [
    "**Data Analysis Float List**"
   ]
  },
  {
   "cell_type": "code",
   "execution_count": 30,
   "id": "6d615f40-13ca-4e29-bf55-9559dfdad3e6",
   "metadata": {},
   "outputs": [
    {
     "name": "stdout",
     "output_type": "stream",
     "text": [
      "here is i ..... TARGET_BAD_FLAG ....and here is the type int64\n",
      "here is i ..... TARGET_LOSS_AMT ....and here is the type float64\n",
      "here is i ..... LOAN ....and here is the type int64\n",
      "here is i ..... OHE_REASON_HOMEIMP ....and here is the type int32\n",
      "here is i ..... OHE_REASON_DEBTCON ....and here is the type int32\n",
      "here is i ..... OHE_REASON_MISSING ....and here is the type int32\n",
      "here is i ..... OHE_JOB_OFFICE ....and here is the type int32\n",
      "here is i ..... OHE_JOB_OTHER ....and here is the type int32\n",
      "here is i ..... OHE_JOB_MGR ....and here is the type int32\n",
      "here is i ..... OHE_JOB_PROFEXEC ....and here is the type int32\n",
      "here is i ..... OHE_JOB_SALES ....and here is the type int32\n",
      "here is i ..... M_MORTDUE ....and here is the type int32\n",
      "here is i ..... IMP_MORTDUE ....and here is the type float64\n",
      "here is i ..... M_VALUE ....and here is the type int32\n",
      "here is i ..... IMP_VALUE ....and here is the type float64\n",
      "here is i ..... M_YOJ ....and here is the type int32\n",
      "here is i ..... IMP_YOJ ....and here is the type float64\n",
      "here is i ..... M_DEROG ....and here is the type int32\n",
      "here is i ..... IMP_DEROG ....and here is the type float64\n",
      "here is i ..... M_DELINQ ....and here is the type int32\n",
      "here is i ..... IMP_DELINQ ....and here is the type float64\n",
      "here is i ..... M_CLAGE ....and here is the type int32\n",
      "here is i ..... IMP_CLAGE ....and here is the type float64\n",
      "here is i ..... M_NINQ ....and here is the type int32\n",
      "here is i ..... IMP_NINQ ....and here is the type float64\n",
      "here is i ..... M_CLNO ....and here is the type int32\n",
      "here is i ..... IMP_CLNO ....and here is the type float64\n",
      "here is i ..... M_DEBTINC ....and here is the type int32\n",
      "here is i ..... IMP_DEBTINC ....and here is the type float64\n"
     ]
    }
   ],
   "source": [
    "dt = cleandf1.dtypes\n",
    "\n",
    "objList = []\n",
    "intList = []\n",
    "floatList = []\n",
    "\n",
    "for i in dt.index:\n",
    "    print(\"here is i .....\",i,\"....and here is the type\", dt[i]) "
   ]
  },
  {
   "cell_type": "code",
   "execution_count": 31,
   "id": "799b3c4f-7026-437b-9e8b-7c3fe3f86c82",
   "metadata": {},
   "outputs": [
    {
     "name": "stdout",
     "output_type": "stream",
     "text": [
      "float\n",
      "-------\n",
      "IMP_MORTDUE\n",
      "IMP_VALUE\n",
      "IMP_YOJ\n",
      "IMP_DEROG\n",
      "IMP_DELINQ\n",
      "IMP_CLAGE\n",
      "IMP_NINQ\n",
      "IMP_CLNO\n",
      "IMP_DEBTINC\n"
     ]
    }
   ],
   "source": [
    "FLAG = 'TARGET_BAD_FLAG'\n",
    "LOSS = 'TARGET_LOSS_AMT'\n",
    "\n",
    "#index columns by data type\n",
    "\n",
    "for i in dt.index:\n",
    "    if i in ( [FLAG,LOSS]) : continue\n",
    "    if dt[i] in (['object']) : objList.append( i )\n",
    "    if dt[i] in (['float64']) : floatList.append( i )\n",
    "    if dt[i] in (['int64']) : intList.append( i )\n",
    "\n",
    "\n",
    "print(\"float\")\n",
    "print(\"-------\")\n",
    "for i in floatList : \n",
    "    print(i)"
   ]
  },
  {
   "cell_type": "code",
   "execution_count": 32,
   "id": "ef36e619-46b5-4dfc-bade-95cd3b7b8fc1",
   "metadata": {},
   "outputs": [
    {
     "name": "stdout",
     "output_type": "stream",
     "text": [
      "Variable =  IMP_MORTDUE\n",
      "FLAG Prob TARGET_BAD_FLAG\n",
      "0    73982.084391\n",
      "1    69064.495013\n",
      "Name: IMP_MORTDUE, dtype: float64\n",
      "Loss Correllation = 33.1 %\n",
      "#########################\n",
      "Variable =  IMP_VALUE\n",
      "FLAG Prob TARGET_BAD_FLAG\n",
      "0    102576.318640\n",
      "1     97383.593616\n",
      "Name: IMP_VALUE, dtype: float64\n",
      "Loss Correllation = 34.5 %\n",
      "#########################\n",
      "Variable =  IMP_YOJ\n",
      "FLAG Prob TARGET_BAD_FLAG\n",
      "0    8.951687\n",
      "1    7.971615\n",
      "Name: IMP_YOJ, dtype: float64\n",
      "Loss Correllation = 1.8 %\n",
      "#########################\n",
      "Variable =  IMP_DEROG\n",
      "FLAG Prob TARGET_BAD_FLAG\n",
      "0    0.116747\n",
      "1    0.656013\n",
      "Name: IMP_DEROG, dtype: float64\n",
      "Loss Correllation = 9.3 %\n",
      "#########################\n",
      "Variable =  IMP_DELINQ\n",
      "FLAG Prob TARGET_BAD_FLAG\n",
      "0    0.219032\n",
      "1    1.154752\n",
      "Name: IMP_DELINQ, dtype: float64\n",
      "Loss Correllation = 23.0 %\n",
      "#########################\n",
      "Variable =  IMP_CLAGE\n",
      "FLAG Prob TARGET_BAD_FLAG\n",
      "0    186.349827\n",
      "1    151.717152\n",
      "Name: IMP_CLAGE, dtype: float64\n",
      "Loss Correllation = 0.5 %\n",
      "#########################\n",
      "Variable =  IMP_NINQ\n",
      "FLAG Prob TARGET_BAD_FLAG\n",
      "0    1.029763\n",
      "1    1.733389\n",
      "Name: IMP_NINQ, dtype: float64\n",
      "Loss Correllation = 14.5 %\n",
      "#########################\n",
      "Variable =  IMP_CLNO\n",
      "FLAG Prob TARGET_BAD_FLAG\n",
      "0    21.270384\n",
      "1    21.157275\n",
      "Name: IMP_CLNO, dtype: float64\n",
      "Loss Correllation = 39.8 %\n",
      "#########################\n",
      "Variable =  IMP_DEBTINC\n",
      "FLAG Prob TARGET_BAD_FLAG\n",
      "0    33.410921\n",
      "1    36.367010\n",
      "Name: IMP_DEBTINC, dtype: float64\n",
      "Loss Correllation = 16.0 %\n",
      "#########################\n"
     ]
    }
   ],
   "source": [
    "for i in floatList :\n",
    "    print(\"Variable = \", i)\n",
    "    g = cleandf1.groupby(FLAG)\n",
    "    x = g[i].mean()\n",
    "    print(\"FLAG Prob\", x)\n",
    "    c = cleandf1[i].corr(cleandf1[LOSS])\n",
    "    c = round(100*c, 1)\n",
    "    print(\"Loss Correllation =\", c, \"%\")\n",
    "    print(\"#########################\")"
   ]
  },
  {
   "cell_type": "markdown",
   "id": "62cb3d21-0f6e-4867-bf3d-676aa99f2445",
   "metadata": {},
   "source": [
    "'Those who have delinquent and derogatory marks on credit, an oustanding mortgage balance and owe a lot to value of home '\n",
    "'show a more significant difference between defaults and non-defaults. Credit lines, home value have a strong relationship'\n",
    "'with loss amount suggesting that individuals are taking on more than they are able. However, individuals who have'\n",
    "'remained employed and have longstanding credit history have a lower average loss amount.'"
   ]
  },
  {
   "cell_type": "code",
   "execution_count": 33,
   "id": "b04488e2-fafc-42c6-b7d8-09b7bcd168fd",
   "metadata": {},
   "outputs": [
    {
     "data": {
      "image/png": "[encoded data removed]",
      "text/plain": [
       "<Figure size 640x480 with 1 Axes>"
      ]
     },
     "metadata": {},
     "output_type": "display_data"
    },
    {
     "data": {
      "image/png": "[encoded data removed]",
      "text/plain": [
       "<Figure size 640x480 with 1 Axes>"
      ]
     },
     "metadata": {},
     "output_type": "display_data"
    },
    {
     "data": {
      "image/png": "[encoded data removed]",
      "text/plain": [
       "<Figure size 640x480 with 1 Axes>"
      ]
     },
     "metadata": {},
     "output_type": "display_data"
    },
    {
     "data": {
      "image/png": "[encoded data removed]",
      "text/plain": [
       "<Figure size 640x480 with 1 Axes>"
      ]
     },
     "metadata": {},
     "output_type": "display_data"
    },
    {
     "data": {
      "image/png": "[encoded data removed]",
      "text/plain": [
       "<Figure size 640x480 with 1 Axes>"
      ]
     },
     "metadata": {},
     "output_type": "display_data"
    },
    {
     "data": {
      "image/png": "[encoded data removed]",
      "text/plain": [
       "<Figure size 640x480 with 1 Axes>"
      ]
     },
     "metadata": {},
     "output_type": "display_data"
    },
    {
     "data": {
      "image/png": "[encoded data removed]",
      "text/plain": [
       "<Figure size 640x480 with 1 Axes>"
      ]
     },
     "metadata": {},
     "output_type": "display_data"
    },
    {
     "data": {
      "image/png": "[encoded data removed]",
      "text/plain": [
       "<Figure size 640x480 with 1 Axes>"
      ]
     },
     "metadata": {},
     "output_type": "display_data"
    },
    {
     "data": {
      "image/png": "[encoded data removed]",
      "text/plain": [
       "<Figure size 640x480 with 1 Axes>"
      ]
     },
     "metadata": {},
     "output_type": "display_data"
    }
   ],
   "source": [
    "for i in floatList :\n",
    "    plt.hist(cleandf1[i])\n",
    "    plt.xlabel(i)\n",
    "    plt.show()"
   ]
  },
  {
   "cell_type": "code",
   "execution_count": 35,
   "id": "374f7d16-ada2-461c-baf5-dcac74cdfa78",
   "metadata": {},
   "outputs": [
    {
     "name": "stdout",
     "output_type": "stream",
     "text": [
      "                               0             1             2             3  \\\n",
      "TARGET_BAD_FLAG         1.000000      1.000000      1.000000      1.000000   \n",
      "TARGET_LOSS_AMT       641.000000   1109.000000    767.000000   1425.000000   \n",
      "LOAN                 1100.000000   1300.000000   1500.000000   1500.000000   \n",
      "OHE_REASON_HOMEIMP      1.000000      1.000000      1.000000      0.000000   \n",
      "OHE_REASON_DEBTCON      0.000000      0.000000      0.000000      0.000000   \n",
      "OHE_REASON_MISSING      0.000000      0.000000      0.000000      1.000000   \n",
      "OHE_JOB_OFFICE          0.000000      0.000000      0.000000      0.000000   \n",
      "OHE_JOB_OTHER           1.000000      1.000000      1.000000      0.000000   \n",
      "OHE_JOB_MGR             0.000000      0.000000      0.000000      0.000000   \n",
      "OHE_JOB_PROFEXEC        0.000000      0.000000      0.000000      0.000000   \n",
      "OHE_JOB_SALES           0.000000      0.000000      0.000000      0.000000   \n",
      "M_MORTDUE               0.000000      0.000000      0.000000      1.000000   \n",
      "IMP_MORTDUE         25860.000000  70053.000000  13500.000000  65019.000000   \n",
      "M_VALUE                 0.000000      0.000000      0.000000      1.000000   \n",
      "IMP_VALUE           39025.000000  68400.000000  16700.000000  89235.500000   \n",
      "M_YOJ                   0.000000      0.000000      0.000000      1.000000   \n",
      "IMP_YOJ                10.500000      7.000000      4.000000      7.000000   \n",
      "M_DEROG                 0.000000      0.000000      0.000000      1.000000   \n",
      "IMP_DEROG               0.000000      0.000000      0.000000      0.000000   \n",
      "M_DELINQ                0.000000      0.000000      0.000000      1.000000   \n",
      "IMP_DELINQ              0.000000      2.000000      0.000000      0.000000   \n",
      "M_CLAGE                 0.000000      0.000000      0.000000      1.000000   \n",
      "IMP_CLAGE              94.366667    121.833333    149.466667    173.466667   \n",
      "M_NINQ                  0.000000      0.000000      0.000000      1.000000   \n",
      "IMP_NINQ                1.000000      0.000000      1.000000      1.000000   \n",
      "M_CLNO                  0.000000      0.000000      0.000000      1.000000   \n",
      "IMP_CLNO                9.000000     14.000000     10.000000     20.000000   \n",
      "M_DEBTINC               1.000000      1.000000      1.000000      1.000000   \n",
      "IMP_DEBTINC            34.818262     34.818262     34.818262     34.818262   \n",
      "\n",
      "                                4  \n",
      "TARGET_BAD_FLAG          0.000000  \n",
      "TARGET_LOSS_AMT               NaN  \n",
      "LOAN                  1700.000000  \n",
      "OHE_REASON_HOMEIMP       1.000000  \n",
      "OHE_REASON_DEBTCON       0.000000  \n",
      "OHE_REASON_MISSING       0.000000  \n",
      "OHE_JOB_OFFICE           1.000000  \n",
      "OHE_JOB_OTHER            0.000000  \n",
      "OHE_JOB_MGR              0.000000  \n",
      "OHE_JOB_PROFEXEC         0.000000  \n",
      "OHE_JOB_SALES            0.000000  \n",
      "M_MORTDUE                0.000000  \n",
      "IMP_MORTDUE          97800.000000  \n",
      "M_VALUE                  0.000000  \n",
      "IMP_VALUE           112000.000000  \n",
      "M_YOJ                    0.000000  \n",
      "IMP_YOJ                  3.000000  \n",
      "M_DEROG                  0.000000  \n",
      "IMP_DEROG                0.000000  \n",
      "M_DELINQ                 0.000000  \n",
      "IMP_DELINQ               0.000000  \n",
      "M_CLAGE                  0.000000  \n",
      "IMP_CLAGE               93.333333  \n",
      "M_NINQ                   0.000000  \n",
      "IMP_NINQ                 0.000000  \n",
      "M_CLNO                   0.000000  \n",
      "IMP_CLNO                14.000000  \n",
      "M_DEBTINC                1.000000  \n",
      "IMP_DEBTINC             34.818262  \n"
     ]
    }
   ],
   "source": [
    "print(cleandf1.head().T)"
   ]
  },
  {
   "cell_type": "code",
   "execution_count": 37,
   "id": "0b4099bb-341c-4fd7-8f2f-245c666610ce",
   "metadata": {},
   "outputs": [
    {
     "ename": "ValueError",
     "evalue": "No engine for filetype: ''",
     "output_type": "error",
     "traceback": [
      "\u001b[1;31m---------------------------------------------------------------------------\u001b[0m",
      "\u001b[1;31mOptionError\u001b[0m                               Traceback (most recent call last)",
      "File \u001b[1;32mC:\\Anaconda\\Lib\\site-packages\\pandas\\io\\excel\\_base.py:1153\u001b[0m, in \u001b[0;36mExcelWriter.__new__\u001b[1;34m(cls, path, engine, date_format, datetime_format, mode, storage_options, if_sheet_exists, engine_kwargs)\u001b[0m\n\u001b[0;32m   1152\u001b[0m \u001b[38;5;28;01mtry\u001b[39;00m:\n\u001b[1;32m-> 1153\u001b[0m     engine \u001b[38;5;241m=\u001b[39m config\u001b[38;5;241m.\u001b[39mget_option(\u001b[38;5;124mf\u001b[39m\u001b[38;5;124m\"\u001b[39m\u001b[38;5;124mio.excel.\u001b[39m\u001b[38;5;132;01m{\u001b[39;00mext\u001b[38;5;132;01m}\u001b[39;00m\u001b[38;5;124m.writer\u001b[39m\u001b[38;5;124m\"\u001b[39m, silent\u001b[38;5;241m=\u001b[39m\u001b[38;5;28;01mTrue\u001b[39;00m)\n\u001b[0;32m   1154\u001b[0m     \u001b[38;5;28;01mif\u001b[39;00m engine \u001b[38;5;241m==\u001b[39m \u001b[38;5;124m\"\u001b[39m\u001b[38;5;124mauto\u001b[39m\u001b[38;5;124m\"\u001b[39m:\n",
      "File \u001b[1;32mC:\\Anaconda\\Lib\\site-packages\\pandas\\_config\\config.py:272\u001b[0m, in \u001b[0;36mCallableDynamicDoc.__call__\u001b[1;34m(self, *args, **kwds)\u001b[0m\n\u001b[0;32m    271\u001b[0m \u001b[38;5;28;01mdef\u001b[39;00m \u001b[38;5;21m__call__\u001b[39m(\u001b[38;5;28mself\u001b[39m, \u001b[38;5;241m*\u001b[39margs, \u001b[38;5;241m*\u001b[39m\u001b[38;5;241m*\u001b[39mkwds) \u001b[38;5;241m-\u001b[39m\u001b[38;5;241m>\u001b[39m T:\n\u001b[1;32m--> 272\u001b[0m     \u001b[38;5;28;01mreturn\u001b[39;00m \u001b[38;5;28mself\u001b[39m\u001b[38;5;241m.\u001b[39m\u001b[38;5;18m__func__\u001b[39m(\u001b[38;5;241m*\u001b[39margs, \u001b[38;5;241m*\u001b[39m\u001b[38;5;241m*\u001b[39mkwds)\n",
      "File \u001b[1;32mC:\\Anaconda\\Lib\\site-packages\\pandas\\_config\\config.py:146\u001b[0m, in \u001b[0;36m_get_option\u001b[1;34m(pat, silent)\u001b[0m\n\u001b[0;32m    145\u001b[0m \u001b[38;5;28;01mdef\u001b[39;00m \u001b[38;5;21m_get_option\u001b[39m(pat: \u001b[38;5;28mstr\u001b[39m, silent: \u001b[38;5;28mbool\u001b[39m \u001b[38;5;241m=\u001b[39m \u001b[38;5;28;01mFalse\u001b[39;00m) \u001b[38;5;241m-\u001b[39m\u001b[38;5;241m>\u001b[39m Any:\n\u001b[1;32m--> 146\u001b[0m     key \u001b[38;5;241m=\u001b[39m _get_single_key(pat, silent)\n\u001b[0;32m    148\u001b[0m     \u001b[38;5;66;03m# walk the nested dict\u001b[39;00m\n",
      "File \u001b[1;32mC:\\Anaconda\\Lib\\site-packages\\pandas\\_config\\config.py:132\u001b[0m, in \u001b[0;36m_get_single_key\u001b[1;34m(pat, silent)\u001b[0m\n\u001b[0;32m    131\u001b[0m         _warn_if_deprecated(pat)\n\u001b[1;32m--> 132\u001b[0m     \u001b[38;5;28;01mraise\u001b[39;00m OptionError(\u001b[38;5;124mf\u001b[39m\u001b[38;5;124m\"\u001b[39m\u001b[38;5;124mNo such keys(s): \u001b[39m\u001b[38;5;132;01m{\u001b[39;00m\u001b[38;5;28mrepr\u001b[39m(pat)\u001b[38;5;132;01m}\u001b[39;00m\u001b[38;5;124m\"\u001b[39m)\n\u001b[0;32m    133\u001b[0m \u001b[38;5;28;01mif\u001b[39;00m \u001b[38;5;28mlen\u001b[39m(keys) \u001b[38;5;241m>\u001b[39m \u001b[38;5;241m1\u001b[39m:\n",
      "\u001b[1;31mOptionError\u001b[0m: No such keys(s): 'io.excel..writer'",
      "\nThe above exception was the direct cause of the following exception:\n",
      "\u001b[1;31mValueError\u001b[0m                                Traceback (most recent call last)",
      "Cell \u001b[1;32mIn[37], line 1\u001b[0m\n\u001b[1;32m----> 1\u001b[0m cleandf1\u001b[38;5;241m.\u001b[39mto_excel(\u001b[38;5;124m\"\u001b[39m\u001b[38;5;124mcleandf1\u001b[39m\u001b[38;5;124m\"\u001b[39m, index\u001b[38;5;241m=\u001b[39m\u001b[38;5;28;01mFalse\u001b[39;00m)\n",
      "File \u001b[1;32mC:\\Anaconda\\Lib\\site-packages\\pandas\\core\\generic.py:2345\u001b[0m, in \u001b[0;36mNDFrame.to_excel\u001b[1;34m(self, excel_writer, sheet_name, na_rep, float_format, columns, header, index, index_label, startrow, startcol, engine, merge_cells, inf_rep, freeze_panes, storage_options, engine_kwargs)\u001b[0m\n\u001b[0;32m   2332\u001b[0m \u001b[38;5;28;01mfrom\u001b[39;00m \u001b[38;5;21;01mpandas\u001b[39;00m\u001b[38;5;21;01m.\u001b[39;00m\u001b[38;5;21;01mio\u001b[39;00m\u001b[38;5;21;01m.\u001b[39;00m\u001b[38;5;21;01mformats\u001b[39;00m\u001b[38;5;21;01m.\u001b[39;00m\u001b[38;5;21;01mexcel\u001b[39;00m \u001b[38;5;28;01mimport\u001b[39;00m ExcelFormatter\n\u001b[0;32m   2334\u001b[0m formatter \u001b[38;5;241m=\u001b[39m ExcelFormatter(\n\u001b[0;32m   2335\u001b[0m     df,\n\u001b[0;32m   2336\u001b[0m     na_rep\u001b[38;5;241m=\u001b[39mna_rep,\n\u001b[1;32m   (...)\u001b[0m\n\u001b[0;32m   2343\u001b[0m     inf_rep\u001b[38;5;241m=\u001b[39minf_rep,\n\u001b[0;32m   2344\u001b[0m )\n\u001b[1;32m-> 2345\u001b[0m formatter\u001b[38;5;241m.\u001b[39mwrite(\n\u001b[0;32m   2346\u001b[0m     excel_writer,\n\u001b[0;32m   2347\u001b[0m     sheet_name\u001b[38;5;241m=\u001b[39msheet_name,\n\u001b[0;32m   2348\u001b[0m     startrow\u001b[38;5;241m=\u001b[39mstartrow,\n\u001b[0;32m   2349\u001b[0m     startcol\u001b[38;5;241m=\u001b[39mstartcol,\n\u001b[0;32m   2350\u001b[0m     freeze_panes\u001b[38;5;241m=\u001b[39mfreeze_panes,\n\u001b[0;32m   2351\u001b[0m     engine\u001b[38;5;241m=\u001b[39mengine,\n\u001b[0;32m   2352\u001b[0m     storage_options\u001b[38;5;241m=\u001b[39mstorage_options,\n\u001b[0;32m   2353\u001b[0m     engine_kwargs\u001b[38;5;241m=\u001b[39mengine_kwargs,\n\u001b[0;32m   2354\u001b[0m )\n",
      "File \u001b[1;32mC:\\Anaconda\\Lib\\site-packages\\pandas\\io\\formats\\excel.py:946\u001b[0m, in \u001b[0;36mExcelFormatter.write\u001b[1;34m(self, writer, sheet_name, startrow, startcol, freeze_panes, engine, storage_options, engine_kwargs)\u001b[0m\n\u001b[0;32m    942\u001b[0m     need_save \u001b[38;5;241m=\u001b[39m \u001b[38;5;28;01mFalse\u001b[39;00m\n\u001b[0;32m    943\u001b[0m \u001b[38;5;28;01melse\u001b[39;00m:\n\u001b[0;32m    944\u001b[0m     \u001b[38;5;66;03m# error: Cannot instantiate abstract class 'ExcelWriter' with abstract\u001b[39;00m\n\u001b[0;32m    945\u001b[0m     \u001b[38;5;66;03m# attributes 'engine', 'save', 'supported_extensions' and 'write_cells'\u001b[39;00m\n\u001b[1;32m--> 946\u001b[0m     writer \u001b[38;5;241m=\u001b[39m ExcelWriter(  \u001b[38;5;66;03m# type: ignore[abstract]\u001b[39;00m\n\u001b[0;32m    947\u001b[0m         writer,\n\u001b[0;32m    948\u001b[0m         engine\u001b[38;5;241m=\u001b[39mengine,\n\u001b[0;32m    949\u001b[0m         storage_options\u001b[38;5;241m=\u001b[39mstorage_options,\n\u001b[0;32m    950\u001b[0m         engine_kwargs\u001b[38;5;241m=\u001b[39mengine_kwargs,\n\u001b[0;32m    951\u001b[0m     )\n\u001b[0;32m    952\u001b[0m     need_save \u001b[38;5;241m=\u001b[39m \u001b[38;5;28;01mTrue\u001b[39;00m\n\u001b[0;32m    954\u001b[0m \u001b[38;5;28;01mtry\u001b[39;00m:\n",
      "File \u001b[1;32mC:\\Anaconda\\Lib\\site-packages\\pandas\\io\\excel\\_base.py:1157\u001b[0m, in \u001b[0;36mExcelWriter.__new__\u001b[1;34m(cls, path, engine, date_format, datetime_format, mode, storage_options, if_sheet_exists, engine_kwargs)\u001b[0m\n\u001b[0;32m   1155\u001b[0m             engine \u001b[38;5;241m=\u001b[39m get_default_engine(ext, mode\u001b[38;5;241m=\u001b[39m\u001b[38;5;124m\"\u001b[39m\u001b[38;5;124mwriter\u001b[39m\u001b[38;5;124m\"\u001b[39m)\n\u001b[0;32m   1156\u001b[0m     \u001b[38;5;28;01mexcept\u001b[39;00m \u001b[38;5;167;01mKeyError\u001b[39;00m \u001b[38;5;28;01mas\u001b[39;00m err:\n\u001b[1;32m-> 1157\u001b[0m         \u001b[38;5;28;01mraise\u001b[39;00m \u001b[38;5;167;01mValueError\u001b[39;00m(\u001b[38;5;124mf\u001b[39m\u001b[38;5;124m\"\u001b[39m\u001b[38;5;124mNo engine for filetype: \u001b[39m\u001b[38;5;124m'\u001b[39m\u001b[38;5;132;01m{\u001b[39;00mext\u001b[38;5;132;01m}\u001b[39;00m\u001b[38;5;124m'\u001b[39m\u001b[38;5;124m\"\u001b[39m) \u001b[38;5;28;01mfrom\u001b[39;00m \u001b[38;5;21;01merr\u001b[39;00m\n\u001b[0;32m   1159\u001b[0m \u001b[38;5;66;03m# for mypy\u001b[39;00m\n\u001b[0;32m   1160\u001b[0m \u001b[38;5;28;01massert\u001b[39;00m engine \u001b[38;5;129;01mis\u001b[39;00m \u001b[38;5;129;01mnot\u001b[39;00m \u001b[38;5;28;01mNone\u001b[39;00m\n",
      "\u001b[1;31mValueError\u001b[0m: No engine for filetype: ''"
     ]
    }
   ],
   "source": [
    "cleandf1.to_excel(\"cleandf1\", index=False)"
   ]
  },
  {
   "cell_type": "code",
   "execution_count": null,
   "id": "3cb6b923-e037-42f3-8f3f-999824dfb8e8",
   "metadata": {},
   "outputs": [],
   "source": []
  }
 ],
 "metadata": {
  "kernelspec": {
   "display_name": "Python 3 (ipykernel)",
   "language": "python",
   "name": "python3"
  },
  "language_info": {
   "codemirror_mode": {
    "name": "ipython",
    "version": 3
   },
   "file_extension": ".py",
   "mimetype": "text/x-python",
   "name": "python",
   "nbconvert_exporter": "python",
   "pygments_lexer": "ipython3",
   "version": "3.11.5"
  }
 },
 "nbformat": 4,
 "nbformat_minor": 5
}
